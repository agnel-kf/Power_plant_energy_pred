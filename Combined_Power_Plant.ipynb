{
  "nbformat": 4,
  "nbformat_minor": 0,
  "metadata": {
    "colab": {
      "name": "Combined_Power_Plant",
      "provenance": [],
      "authorship_tag": "ABX9TyMYwjC3bw4XKykLEkWCEFsA",
      "include_colab_link": true
    },
    "kernelspec": {
      "name": "python3",
      "display_name": "Python 3"
    },
    "language_info": {
      "name": "python"
    }
  },
  "cells": [
    {
      "cell_type": "markdown",
      "metadata": {
        "id": "view-in-github",
        "colab_type": "text"
      },
      "source": [
        "<a href=\"https://colab.research.google.com/github/agnel-kf/Power_plant_energy_pred/blob/main/Combined_Power_Plant.ipynb\" target=\"_parent\"><img src=\"https://colab.research.google.com/assets/colab-badge.svg\" alt=\"Open In Colab\"/></a>"
      ]
    },
    {
      "cell_type": "code",
      "metadata": {
        "colab": {
          "base_uri": "https://localhost:8080/",
          "height": 35
        },
        "id": "Iz1-wIUvodpr",
        "outputId": "350702e7-6800-4bcd-b3a3-59dc136d0874"
      },
      "source": [
        "import pandas as pd\n",
        "import numpy as np\n",
        "import tensorflow as tf\n",
        "import seaborn as sns\n",
        "tf.__version__"
      ],
      "execution_count": 59,
      "outputs": [
        {
          "output_type": "execute_result",
          "data": {
            "application/vnd.google.colaboratory.intrinsic+json": {
              "type": "string"
            },
            "text/plain": [
              "'2.5.0'"
            ]
          },
          "metadata": {
            "tags": []
          },
          "execution_count": 59
        }
      ]
    },
    {
      "cell_type": "code",
      "metadata": {
        "id": "t7ybc-YotK6M"
      },
      "source": [
        "dataset = pd.read_excel('Folds5x2_pp.xlsx')"
      ],
      "execution_count": 60,
      "outputs": []
    },
    {
      "cell_type": "markdown",
      "metadata": {
        "id": "hkeJmltZsvf2"
      },
      "source": [
        "### Attribute Information:\n",
        "\n",
        "Features consist of hourly average ambient variables\n",
        "- Temperature (T) in the range 1.81°C and 37.11°C,\n",
        "- Ambient Pressure (AP) in the range 992.89-1033.30 milibar,\n",
        "- Relative Humidity (RH) in the range 25.56% to 100.16%\n",
        "- Exhaust Vacuum (V) in teh range 25.36-81.56 cm Hg\n",
        "- Net hourly electrical energy output (EP) 420.26-495.76 MW"
      ]
    },
    {
      "cell_type": "code",
      "metadata": {
        "colab": {
          "base_uri": "https://localhost:8080/",
          "height": 286
        },
        "id": "T8rQ_gXttPRq",
        "outputId": "f87b3b94-7d6d-4406-bfb9-13f9899b36ed"
      },
      "source": [
        "df_corr = dataset.corr()\n",
        "sns.heatmap(df_corr,annot = True)"
      ],
      "execution_count": 61,
      "outputs": [
        {
          "output_type": "execute_result",
          "data": {
            "text/plain": [
              "<matplotlib.axes._subplots.AxesSubplot at 0x7fbf656786d0>"
            ]
          },
          "metadata": {
            "tags": []
          },
          "execution_count": 61
        },
        {
          "output_type": "display_data",
          "data": {
            "image/png": "[encoded data removed]",
            "text/plain": [
              "<Figure size 432x288 with 2 Axes>"
            ]
          },
          "metadata": {
            "tags": [],
            "needs_background": "light"
          }
        }
      ]
    },
    {
      "cell_type": "code",
      "metadata": {
        "id": "I-ytcZPUrv22"
      },
      "source": [
        "X = dataset.iloc[:,:-1].values\n",
        "y = dataset.iloc[:,-1].values\n",
        "y = y.reshape(len(y),1)"
      ],
      "execution_count": 62,
      "outputs": []
    },
    {
      "cell_type": "code",
      "metadata": {
        "id": "JnYswtydtOYO"
      },
      "source": [
        "from sklearn.model_selection import train_test_split\n",
        "train_X,val_X,train_y,val_y = train_test_split(X,y,test_size = 0.25,random_state = 0)"
      ],
      "execution_count": 63,
      "outputs": []
    },
    {
      "cell_type": "markdown",
      "metadata": {
        "id": "k4L2VHC6uDtP"
      },
      "source": [
        "# Building the ANN\n",
        "## Initialising the ANN"
      ]
    },
    {
      "cell_type": "code",
      "metadata": {
        "id": "kq0eknRhsOXt"
      },
      "source": [
        "ann = tf.keras.models.Sequential()"
      ],
      "execution_count": 65,
      "outputs": []
    },
    {
      "cell_type": "markdown",
      "metadata": {
        "id": "YyWjWTagyX6p"
      },
      "source": [
        "## Adding the hidden layer"
      ]
    },
    {
      "cell_type": "code",
      "metadata": {
        "id": "9NKZinbeyXAc"
      },
      "source": [
        "ann.add(tf.keras.layers.Dense(units = 6,activation = 'relu'))"
      ],
      "execution_count": 66,
      "outputs": []
    },
    {
      "cell_type": "markdown",
      "metadata": {
        "id": "bCxjebrxyuZf"
      },
      "source": [
        "## Adding the second hidden layer"
      ]
    },
    {
      "cell_type": "code",
      "metadata": {
        "id": "vDcMkDVRysTh"
      },
      "source": [
        "ann.add(tf.keras.layers.Dense(units = 6,activation = 'relu'))"
      ],
      "execution_count": 67,
      "outputs": []
    },
    {
      "cell_type": "markdown",
      "metadata": {
        "id": "6Zdc0ZDf0UbJ"
      },
      "source": [
        "## Adding the output layer"
      ]
    },
    {
      "cell_type": "code",
      "metadata": {
        "id": "L2QvdXDUy-U2"
      },
      "source": [
        "ann.add(tf.keras.layers.Dense(units = 1))"
      ],
      "execution_count": 68,
      "outputs": []
    },
    {
      "cell_type": "markdown",
      "metadata": {
        "id": "uGCOTlW2zeEy"
      },
      "source": [
        "# Compiling the model"
      ]
    },
    {
      "cell_type": "code",
      "metadata": {
        "id": "6kQYpYx-zhcS"
      },
      "source": [
        "ann.compile(optimizer ='adam',loss = 'mean_squared_error')"
      ],
      "execution_count": 69,
      "outputs": []
    },
    {
      "cell_type": "markdown",
      "metadata": {
        "id": "iLB0bLCszRAR"
      },
      "source": [
        "# Training the model"
      ]
    },
    {
      "cell_type": "code",
      "metadata": {
        "colab": {
          "base_uri": "https://localhost:8080/"
        },
        "id": "KqvyM78czTPe",
        "outputId": "9e6851db-b00c-4424-c54a-ff23951f6f49"
      },
      "source": [
        "ann.fit(train_X,train_y,batch_size = 32,epochs = 100)"
      ],
      "execution_count": 70,
      "outputs": [
        {
          "output_type": "stream",
          "text": [
            "Epoch 1/100\n",
            "225/225 [==============================] - 1s 1ms/step - loss: 2628.0374\n",
            "Epoch 2/100\n",
            "225/225 [==============================] - 0s 1ms/step - loss: 194.9161\n",
            "Epoch 3/100\n",
            "225/225 [==============================] - 0s 1ms/step - loss: 152.8845\n",
            "Epoch 4/100\n",
            "225/225 [==============================] - 0s 1ms/step - loss: 114.7133\n",
            "Epoch 5/100\n",
            "225/225 [==============================] - 0s 1ms/step - loss: 87.8007\n",
            "Epoch 6/100\n",
            "225/225 [==============================] - 0s 1ms/step - loss: 71.8405\n",
            "Epoch 7/100\n",
            "225/225 [==============================] - 0s 1ms/step - loss: 62.4168\n",
            "Epoch 8/100\n",
            "225/225 [==============================] - 0s 1ms/step - loss: 56.7580\n",
            "Epoch 9/100\n",
            "225/225 [==============================] - 0s 1ms/step - loss: 52.8982\n",
            "Epoch 10/100\n",
            "225/225 [==============================] - 0s 1ms/step - loss: 48.8636\n",
            "Epoch 11/100\n",
            "225/225 [==============================] - 0s 1ms/step - loss: 45.7360\n",
            "Epoch 12/100\n",
            "225/225 [==============================] - 0s 1ms/step - loss: 43.3148\n",
            "Epoch 13/100\n",
            "225/225 [==============================] - 0s 1ms/step - loss: 41.1779\n",
            "Epoch 14/100\n",
            "225/225 [==============================] - 0s 1ms/step - loss: 38.2530\n",
            "Epoch 15/100\n",
            "225/225 [==============================] - 0s 1ms/step - loss: 37.7038\n",
            "Epoch 16/100\n",
            "225/225 [==============================] - 0s 1ms/step - loss: 35.5250\n",
            "Epoch 17/100\n",
            "225/225 [==============================] - 0s 1ms/step - loss: 35.0965\n",
            "Epoch 18/100\n",
            "225/225 [==============================] - 0s 1ms/step - loss: 32.7537\n",
            "Epoch 19/100\n",
            "225/225 [==============================] - 0s 1ms/step - loss: 31.5986\n",
            "Epoch 20/100\n",
            "225/225 [==============================] - 0s 1ms/step - loss: 30.5485\n",
            "Epoch 21/100\n",
            "225/225 [==============================] - 0s 1ms/step - loss: 30.3551\n",
            "Epoch 22/100\n",
            "225/225 [==============================] - 0s 1ms/step - loss: 28.7702\n",
            "Epoch 23/100\n",
            "225/225 [==============================] - 0s 1ms/step - loss: 28.6081\n",
            "Epoch 24/100\n",
            "225/225 [==============================] - 0s 1ms/step - loss: 27.6812\n",
            "Epoch 25/100\n",
            "225/225 [==============================] - 0s 1ms/step - loss: 27.6847\n",
            "Epoch 26/100\n",
            "225/225 [==============================] - 0s 2ms/step - loss: 27.7074\n",
            "Epoch 27/100\n",
            "225/225 [==============================] - 0s 2ms/step - loss: 26.6351\n",
            "Epoch 28/100\n",
            "225/225 [==============================] - 0s 1ms/step - loss: 26.2793\n",
            "Epoch 29/100\n",
            "225/225 [==============================] - 0s 1ms/step - loss: 26.1054\n",
            "Epoch 30/100\n",
            "225/225 [==============================] - 0s 1ms/step - loss: 25.6082\n",
            "Epoch 31/100\n",
            "225/225 [==============================] - 0s 1ms/step - loss: 27.7990\n",
            "Epoch 32/100\n",
            "225/225 [==============================] - 0s 1ms/step - loss: 25.7728\n",
            "Epoch 33/100\n",
            "225/225 [==============================] - 0s 1ms/step - loss: 25.6189\n",
            "Epoch 34/100\n",
            "225/225 [==============================] - 0s 1ms/step - loss: 25.2834\n",
            "Epoch 35/100\n",
            "225/225 [==============================] - 0s 1ms/step - loss: 25.3772\n",
            "Epoch 36/100\n",
            "225/225 [==============================] - 0s 1ms/step - loss: 25.0350\n",
            "Epoch 37/100\n",
            "225/225 [==============================] - 0s 1ms/step - loss: 24.9471\n",
            "Epoch 38/100\n",
            "225/225 [==============================] - 0s 1ms/step - loss: 25.4069\n",
            "Epoch 39/100\n",
            "225/225 [==============================] - 0s 1ms/step - loss: 24.8490\n",
            "Epoch 40/100\n",
            "225/225 [==============================] - 0s 1ms/step - loss: 25.0521\n",
            "Epoch 41/100\n",
            "225/225 [==============================] - 0s 1ms/step - loss: 25.0870\n",
            "Epoch 42/100\n",
            "225/225 [==============================] - 0s 1ms/step - loss: 26.1138\n",
            "Epoch 43/100\n",
            "225/225 [==============================] - 0s 1ms/step - loss: 25.1627\n",
            "Epoch 44/100\n",
            "225/225 [==============================] - 0s 1ms/step - loss: 25.2696\n",
            "Epoch 45/100\n",
            "225/225 [==============================] - 0s 1ms/step - loss: 24.9440\n",
            "Epoch 46/100\n",
            "225/225 [==============================] - 0s 1ms/step - loss: 25.4382\n",
            "Epoch 47/100\n",
            "225/225 [==============================] - 0s 1ms/step - loss: 24.6519\n",
            "Epoch 48/100\n",
            "225/225 [==============================] - 0s 1ms/step - loss: 25.0111\n",
            "Epoch 49/100\n",
            "225/225 [==============================] - 0s 1ms/step - loss: 25.3707\n",
            "Epoch 50/100\n",
            "225/225 [==============================] - 0s 1ms/step - loss: 25.3704\n",
            "Epoch 51/100\n",
            "225/225 [==============================] - 0s 1ms/step - loss: 25.1646\n",
            "Epoch 52/100\n",
            "225/225 [==============================] - 0s 1ms/step - loss: 24.6671\n",
            "Epoch 53/100\n",
            "225/225 [==============================] - 0s 1ms/step - loss: 25.0070\n",
            "Epoch 54/100\n",
            "225/225 [==============================] - 0s 1ms/step - loss: 24.8951\n",
            "Epoch 55/100\n",
            "225/225 [==============================] - 0s 1ms/step - loss: 24.5229\n",
            "Epoch 56/100\n",
            "225/225 [==============================] - 0s 1ms/step - loss: 24.7929\n",
            "Epoch 57/100\n",
            "225/225 [==============================] - 0s 1ms/step - loss: 24.8372\n",
            "Epoch 58/100\n",
            "225/225 [==============================] - 0s 1ms/step - loss: 24.7621\n",
            "Epoch 59/100\n",
            "225/225 [==============================] - 0s 1ms/step - loss: 26.3591\n",
            "Epoch 60/100\n",
            "225/225 [==============================] - 0s 1ms/step - loss: 24.6135\n",
            "Epoch 61/100\n",
            "225/225 [==============================] - 0s 1ms/step - loss: 24.9541\n",
            "Epoch 62/100\n",
            "225/225 [==============================] - 0s 1ms/step - loss: 25.3091\n",
            "Epoch 63/100\n",
            "225/225 [==============================] - 0s 1ms/step - loss: 25.8241\n",
            "Epoch 64/100\n",
            "225/225 [==============================] - 0s 1ms/step - loss: 24.7245\n",
            "Epoch 65/100\n",
            "225/225 [==============================] - 0s 1ms/step - loss: 24.9237\n",
            "Epoch 66/100\n",
            "225/225 [==============================] - 0s 1ms/step - loss: 25.5257\n",
            "Epoch 67/100\n",
            "225/225 [==============================] - 0s 1ms/step - loss: 25.4435\n",
            "Epoch 68/100\n",
            "225/225 [==============================] - 0s 1ms/step - loss: 25.1255\n",
            "Epoch 69/100\n",
            "225/225 [==============================] - 0s 1ms/step - loss: 25.3469\n",
            "Epoch 70/100\n",
            "225/225 [==============================] - 0s 1ms/step - loss: 24.5318\n",
            "Epoch 71/100\n",
            "225/225 [==============================] - 0s 1ms/step - loss: 25.6944\n",
            "Epoch 72/100\n",
            "225/225 [==============================] - 0s 1ms/step - loss: 24.9346\n",
            "Epoch 73/100\n",
            "225/225 [==============================] - 0s 1ms/step - loss: 25.3528\n",
            "Epoch 74/100\n",
            "225/225 [==============================] - 0s 1ms/step - loss: 25.9112\n",
            "Epoch 75/100\n",
            "225/225 [==============================] - 0s 1ms/step - loss: 24.6753\n",
            "Epoch 76/100\n",
            "225/225 [==============================] - 0s 1ms/step - loss: 25.4321\n",
            "Epoch 77/100\n",
            "225/225 [==============================] - 0s 1ms/step - loss: 24.7353\n",
            "Epoch 78/100\n",
            "225/225 [==============================] - 0s 1ms/step - loss: 24.5595\n",
            "Epoch 79/100\n",
            "225/225 [==============================] - 0s 1ms/step - loss: 24.5011\n",
            "Epoch 80/100\n",
            "225/225 [==============================] - 0s 1ms/step - loss: 25.0376\n",
            "Epoch 81/100\n",
            "225/225 [==============================] - 0s 1ms/step - loss: 26.2245\n",
            "Epoch 82/100\n",
            "225/225 [==============================] - 0s 1ms/step - loss: 24.2326\n",
            "Epoch 83/100\n",
            "225/225 [==============================] - 0s 1ms/step - loss: 24.3802\n",
            "Epoch 84/100\n",
            "225/225 [==============================] - 0s 1ms/step - loss: 24.2541\n",
            "Epoch 85/100\n",
            "225/225 [==============================] - 0s 1ms/step - loss: 25.2236\n",
            "Epoch 86/100\n",
            "225/225 [==============================] - 0s 1ms/step - loss: 25.5620\n",
            "Epoch 87/100\n",
            "225/225 [==============================] - 0s 1ms/step - loss: 24.8418\n",
            "Epoch 88/100\n",
            "225/225 [==============================] - 0s 1ms/step - loss: 24.8116\n",
            "Epoch 89/100\n",
            "225/225 [==============================] - 0s 1ms/step - loss: 25.6912\n",
            "Epoch 90/100\n",
            "225/225 [==============================] - 0s 1ms/step - loss: 25.7013\n",
            "Epoch 91/100\n",
            "225/225 [==============================] - 0s 1ms/step - loss: 24.6893\n",
            "Epoch 92/100\n",
            "225/225 [==============================] - 0s 1ms/step - loss: 25.5217\n",
            "Epoch 93/100\n",
            "225/225 [==============================] - 0s 1ms/step - loss: 24.3827\n",
            "Epoch 94/100\n",
            "225/225 [==============================] - 0s 1ms/step - loss: 25.8481\n",
            "Epoch 95/100\n",
            "225/225 [==============================] - 0s 1ms/step - loss: 25.0169\n",
            "Epoch 96/100\n",
            "225/225 [==============================] - 0s 1ms/step - loss: 25.0225\n",
            "Epoch 97/100\n",
            "225/225 [==============================] - 0s 1ms/step - loss: 25.2756\n",
            "Epoch 98/100\n",
            "225/225 [==============================] - 0s 1ms/step - loss: 24.7669\n",
            "Epoch 99/100\n",
            "225/225 [==============================] - 0s 1ms/step - loss: 24.8989\n",
            "Epoch 100/100\n",
            "225/225 [==============================] - 0s 1ms/step - loss: 25.1628\n"
          ],
          "name": "stdout"
        },
        {
          "output_type": "execute_result",
          "data": {
            "text/plain": [
              "<tensorflow.python.keras.callbacks.History at 0x7fbf82244b90>"
            ]
          },
          "metadata": {
            "tags": []
          },
          "execution_count": 70
        }
      ]
    },
    {
      "cell_type": "markdown",
      "metadata": {
        "id": "y67ZPxZ12rQI"
      },
      "source": [
        "# Predicting the Test set"
      ]
    },
    {
      "cell_type": "code",
      "metadata": {
        "colab": {
          "base_uri": "https://localhost:8080/"
        },
        "id": "1BzCSi7C2vVl",
        "outputId": "7dfe7fa1-04ed-49a4-d0ba-73b1f282b3d3"
      },
      "source": [
        "y_preds = ann.predict(val_X)\n",
        "np.set_printoptions(precision = 2)\n",
        "print(np.concatenate((y_preds.reshape(len(y_preds),1), val_y.reshape(len(val_y),1)),1))\n"
      ],
      "execution_count": 72,
      "outputs": [
        {
          "output_type": "stream",
          "text": [
            "[[434.23 431.23]\n",
            " [461.57 460.01]\n",
            " [465.87 461.14]\n",
            " ...\n",
            " [471.85 468.9 ]\n",
            " [476.6  473.9 ]\n",
            " [438.05 437.07]]\n"
          ],
          "name": "stdout"
        }
      ]
    },
    {
      "cell_type": "markdown",
      "metadata": {
        "id": "otwd3vYX7ZMn"
      },
      "source": [
        "# Evaluating the model"
      ]
    },
    {
      "cell_type": "code",
      "metadata": {
        "colab": {
          "base_uri": "https://localhost:8080/"
        },
        "id": "al7t48PX4Vqh",
        "outputId": "59a09ab5-0da9-41dc-cebf-21af66573042"
      },
      "source": [
        "from sklearn.metrics import r2_score\n",
        "r2_score(val_y,y_preds)"
      ],
      "execution_count": 74,
      "outputs": [
        {
          "output_type": "execute_result",
          "data": {
            "text/plain": [
              "0.9227042669375591"
            ]
          },
          "metadata": {
            "tags": []
          },
          "execution_count": 74
        }
      ]
    },
    {
      "cell_type": "code",
      "metadata": {
        "id": "UIwjypgM7Vz3"
      },
      "source": [
        ""
      ],
      "execution_count": null,
      "outputs": []
    }
  ]
}